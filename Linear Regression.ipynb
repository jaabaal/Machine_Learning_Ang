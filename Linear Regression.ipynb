{
 "cells": [
  {
   "cell_type": "code",
   "execution_count": 206,
   "metadata": {},
   "outputs": [
    {
     "name": "stdout",
     "output_type": "stream",
     "text": [
      "The optimized values of theta are: \n",
      "[[340412.7775]\n",
      " [109440.6381]\n",
      " [ -6570.8257]]\n"
     ]
    },
    {
     "data": {
      "image/png": "[encoded data removed]",
      "text/plain": [
       "<Figure size 432x288 with 1 Axes>"
      ]
     },
     "metadata": {
      "needs_background": "light"
     },
     "output_type": "display_data"
    }
   ],
   "source": [
    "# Humble try to implement Linear Regression algorithm\n",
    "import pandas as pd\n",
    "import numpy as np\n",
    "from matplotlib import pyplot as plt\n",
    "\n",
    "# Initial theta\n",
    "theta = np.array([[0.1],[0.2],[0.3]])\n",
    "\n",
    "# Load the dataset \n",
    "dataset = pd.read_csv(\"\")\n",
    "\n",
    "# Create the training dataset\n",
    "X = dataset.iloc[:, 0:-1]\n",
    "y = dataset.iloc[:, -1]\n",
    "\n",
    "def normalize(X):\n",
    "    '''\n",
    "    Function to normalize data\n",
    "    '''\n",
    "    \n",
    "    # Convert pandas Series to a n-dimensional vector for ease of computation\n",
    "    X = np.array(X)\n",
    "    \n",
    "    m = X.shape[0]\n",
    "    n = X.shape[1]\n",
    "\n",
    "    X = X.reshape(m, n)\n",
    "    \n",
    "    # Calculate mean and standard deviation for each feature\n",
    "    mu_X = np.round(np.mean(X, axis=0),4)\n",
    "    sigma_X = np.round(np.std(X, axis=0),4)\n",
    "    \n",
    "    # Convert mean and standard deviation into matrices for easier computation\n",
    "    mu_mat = np.ones((len(X),n)) * mu_X\n",
    "    sigma_mat = np.ones((len(X),n)) * sigma_X\n",
    "    \n",
    "    # Using mean normalization\n",
    "    X = np.divide(np.subtract(X,mu_mat), sigma_mat)\n",
    "    \n",
    "    return X\n",
    "\n",
    "X = normalize(X)\n",
    "on_s = np.ones((len(X),1))\n",
    "\n",
    "# Add the extra X(0) feature\n",
    "X = np.column_stack((on_s, X))\n",
    "\n",
    "# Convert pandas Series to a n-dimensional vector for ease of computation\n",
    "y = np.array(y).reshape(len(y), 1)\n",
    "\n",
    "def computeCost(X, y, theta):\n",
    "    '''\n",
    "    Function to compute the mean of squared error\n",
    "    '''\n",
    "    \n",
    "    hypothesis = np.matmul(X,theta)\n",
    "    sum_of_sq = np.sum(np.subtract(hypothesis,y) ** 2)\n",
    "    cost = 1/(2 * len(X)) * sum_of_sq\n",
    "    \n",
    "    return cost \n",
    "\n",
    "alpha = 0.1\n",
    "\n",
    "num_iters = 200\n",
    "\n",
    "def gradientDescent(X, y, theta, alpha, num_iters):\n",
    "    '''\n",
    "    Function to calculate the gradient descent\n",
    "    '''\n",
    "    \n",
    "    J_hist = []\n",
    "    \n",
    "    for i in range(num_iters):\n",
    "    \n",
    "        hypothesis = np.matmul(X,theta)\n",
    "        step = np.matmul(np.transpose(X),np.subtract(hypothesis,y))\n",
    "        theta = theta - (alpha * 1/len(X)) * step\n",
    "        J_hist.append(computeCost(X, y, theta))\n",
    "        \n",
    "    # Store cost after each step\n",
    "    J_hist = np.array(J_hist).reshape(num_iters,1)\n",
    "\n",
    "    return (theta, J_hist)\n",
    "\n",
    "theta, J_hist = gradientDescent(X, y, theta, alpha, num_iters)\n",
    "\n",
    "theta = np.round(theta, decimals = 4)\n",
    "\n",
    "print(f\"The optimized values of theta are: \\n\" + str(theta))\n",
    "\n",
    "iterations = [i+1 for i in range(200)]\n",
    "\n",
    "# Plot the graph to know that gradient descent is working correctly\n",
    "plt.plot(iterations, J_hist)\n",
    "plt.xlabel(\"Number of iterations\")\n",
    "plt.ylabel(\"Cost\")\n",
    "plt.title(\"Number of iterations vs Cost\")\n",
    "plt.show()"
   ]
  },
  {
   "cell_type": "code",
   "execution_count": null,
   "metadata": {},
   "outputs": [],
   "source": []
  }
 ],
 "metadata": {
  "kernelspec": {
   "display_name": "Python 3",
   "language": "python",
   "name": "python3"
  },
  "language_info": {
   "codemirror_mode": {
    "name": "ipython",
    "version": 3
   },
   "file_extension": ".py",
   "mimetype": "text/x-python",
   "name": "python",
   "nbconvert_exporter": "python",
   "pygments_lexer": "ipython3",
   "version": "3.8.3"
  }
 },
 "nbformat": 4,
 "nbformat_minor": 4
}
